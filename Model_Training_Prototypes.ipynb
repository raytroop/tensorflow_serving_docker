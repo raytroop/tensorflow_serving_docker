{
 "cells": [
  {
   "cell_type": "markdown",
   "metadata": {},
   "source": [
    "copy from https://github.com/dipanjanS/data_science_for_all/blob/master/gde_tf_serve_vision/tensorflow_serving/Model_Training_Prototypes.ipynb"
   ]
  },
  {
   "cell_type": "markdown",
   "metadata": {},
   "source": [
    "# Load Dependencies "
   ]
  },
  {
   "cell_type": "code",
   "execution_count": 1,
   "metadata": {},
   "outputs": [
    {
     "name": "stdout",
     "output_type": "stream",
     "text": [
      "1.14.0\n"
     ]
    }
   ],
   "source": [
    "# to prevent unnecessary warnings\n",
    "import warnings\n",
    "warnings.simplefilter(action='ignore', category=FutureWarning)\n",
    "\n",
    "# TensorFlow and tf.keras\n",
    "import tensorflow as tf\n",
    "from tensorflow import keras\n",
    "\n",
    "# Helper libraries\n",
    "import numpy as np\n",
    "import matplotlib.pyplot as plt\n",
    "import os\n",
    "import subprocess\n",
    "import cv2\n",
    "import json\n",
    "import shutil\n",
    "import requests\n",
    "from tqdm import tqdm\n",
    "\n",
    "tf.logging.set_verbosity(tf.logging.ERROR)\n",
    "print(tf.__version__)\n",
    "\n",
    "%matplotlib inline"
   ]
  },
  {
   "cell_type": "markdown",
   "metadata": {},
   "source": [
    "# Load Dataset\n",
    "Here we will leverage an out of the box dataset since the intent of this tutorial is to showcase model serving more than model architecture, training and evaluation. However we will cover these steps also to a good extent."
   ]
  },
  {
   "cell_type": "markdown",
   "metadata": {},
   "source": [
    "## The Fashion-MNIST Dataset\n",
    "\n",
    "[Fashion MNIST](https://github.com/zalandoresearch/fashion-mnist) is a dataset of Zalando's article images—consisting of a training set of 60,000 examples and a test set of 10,000 examples. Each example is a 28x28 grayscale image, associated with a label from 10 classes. We intend Fashion-MNIST to serve as a direct drop-in replacement for the original MNIST dataset for benchmarking machine learning algorithms. It shares the same image size and structure of training and testing splits.\n",
    "\n",
    "Here's an example how the data looks (each class takes three-rows):\n",
    "\n",
    "<table>\n",
    "  <tr><td>\n",
    "    <img src=\"https://raw.githubusercontent.com/zalandoresearch/fashion-mnist/master/doc/img/fashion-mnist-sprite.png\"\n",
    "         alt=\"Fashion MNIST sprite\"  width=\"600\">\n",
    "  </td></tr>\n",
    "  <tr><td align=\"center\">\n",
    "    <a href=\"https://github.com/zalandoresearch/fashion-mnist\">Fashion-MNIST samples</a> (by Zalando, MIT License).<br/>&nbsp;\n",
    "  </td></tr>\n",
    "</table>\n",
    "\n",
    "Fashion MNIST is intended as a drop-in replacement for the classic [MNIST](http://yann.lecun.com/exdb/mnist/) dataset—often used as the \"Hello, World\" of machine learning programs for computer vision. You can access the Fashion MNIST directly from TensorFlow.\n",
    "\n",
    "__Note:__ Although these are really images, they are loaded as NumPy arrays and not binary image objects."
   ]
  },
  {
   "cell_type": "markdown",
   "metadata": {},
   "source": [
    "## Loading the Fashion-MNIST Dataset"
   ]
  },
  {
   "cell_type": "code",
   "execution_count": 2,
   "metadata": {},
   "outputs": [
    {
     "name": "stdout",
     "output_type": "stream",
     "text": [
      "\n",
      "Train_images.shape: (60000, 28, 28), of uint8\n",
      "Test_images.shape: (10000, 28, 28), of uint8\n"
     ]
    }
   ],
   "source": [
    "fashion_mnist = keras.datasets.fashion_mnist\n",
    "(train_images, train_labels), (test_images, test_labels) = fashion_mnist.load_data()\n",
    "\n",
    "class_names = ['T-shirt/top', 'Trouser', 'Pullover', 'Dress', 'Coat',\n",
    "               'Sandal', 'Shirt', 'Sneaker', 'Bag', 'Ankle boot']\n",
    "\n",
    "print('\\nTrain_images.shape: {}, of {}'.format(train_images.shape, train_images.dtype))\n",
    "print('Test_images.shape: {}, of {}'.format(test_images.shape, test_images.dtype))"
   ]
  },
  {
   "cell_type": "markdown",
   "metadata": {},
   "source": [
    "## Reshaping Image Data for Modeling"
   ]
  },
  {
   "cell_type": "code",
   "execution_count": 3,
   "metadata": {},
   "outputs": [
    {
     "name": "stdout",
     "output_type": "stream",
     "text": [
      "\n",
      "Train_images.shape: (60000, 28, 28, 1), of uint8\n",
      "Test_images.shape: (10000, 28, 28, 1), of uint8\n"
     ]
    }
   ],
   "source": [
    "# reshape for feeding into the model\n",
    "train_images_gr = train_images.reshape(train_images.shape[0], 28, 28, 1)\n",
    "test_images_gr = test_images.reshape(test_images.shape[0], 28, 28, 1)\n",
    "\n",
    "print('\\nTrain_images.shape: {}, of {}'.format(train_images_gr.shape, train_images_gr.dtype))\n",
    "print('Test_images.shape: {}, of {}'.format(test_images_gr.shape, test_images_gr.dtype))"
   ]
  },
  {
   "cell_type": "code",
   "execution_count": 4,
   "metadata": {},
   "outputs": [
    {
     "name": "stdout",
     "output_type": "stream",
     "text": [
      "['Ankle boot', 'T-shirt/top', 'T-shirt/top', 'Dress', 'T-shirt/top', 'Pullover', 'Sneaker', 'Pullover', 'Sandal', 'Sandal']\n"
     ]
    },
    {
     "data": {
      "image/png": "[encoded data removed]",
      "text/plain": [
       "<Figure size 864x432 with 10 Axes>"
      ]
     },
     "metadata": {
      "needs_background": "light"
     },
     "output_type": "display_data"
    }
   ],
   "source": [
    "fig, ax = plt.subplots(2, 5, figsize=(12, 6))\n",
    "ax[0, 0].imshow(train_images_gr[0].reshape(28,28))\n",
    "ax[0, 1].imshow(train_images_gr[1].reshape(28,28))\n",
    "ax[0, 2].imshow(train_images_gr[2].reshape(28,28))\n",
    "ax[0, 3].imshow(train_images_gr[3].reshape(28,28))\n",
    "ax[0, 4].imshow(train_images_gr[4].reshape(28,28))\n",
    "ax[1, 0].imshow(train_images_gr[5].reshape(28,28))\n",
    "ax[1, 1].imshow(train_images_gr[6].reshape(28,28))\n",
    "ax[1, 2].imshow(train_images_gr[7].reshape(28,28))\n",
    "ax[1, 3].imshow(train_images_gr[8].reshape(28,28))\n",
    "ax[1, 4].imshow(train_images_gr[9].reshape(28,28))\n",
    "\n",
    "print([class_names[i] for i in train_labels[:10]])"
   ]
  },
  {
   "cell_type": "markdown",
   "metadata": {},
   "source": [
    "# Model Training and Evaluation\n",
    "\n",
    "In this section we will focus on building, training and evaluating two different deep learning models, one based on a simple CNN architecture and one based on a complex, pre-trained CNN model"
   ]
  },
  {
   "cell_type": "markdown",
   "metadata": {},
   "source": [
    "## Model 1: Basic CNN from Scratch"
   ]
  },
  {
   "cell_type": "code",
   "execution_count": 5,
   "metadata": {},
   "outputs": [],
   "source": [
    "INPUT_SHAPE = (28, 28, 1)\n",
    "\n",
    "def create_cnn_architecture_model1(input_shape):\n",
    "    inp = keras.layers.Input(shape=input_shape)\n",
    "\n",
    "    conv1 = keras.layers.Conv2D(filters=16, kernel_size=(3, 3), strides=(1, 1), \n",
    "                                activation='relu', padding='same')(inp)\n",
    "    pool1 = keras.layers.MaxPooling2D(pool_size=(2, 2))(conv1)\n",
    "    conv2 = keras.layers.Conv2D(filters=32, kernel_size=(3, 3), strides=(1, 1), \n",
    "                                   activation='relu', padding='same')(pool1)\n",
    "    pool2 = keras.layers.MaxPooling2D(pool_size=(2, 2))(conv2)\n",
    "\n",
    "    flat = keras.layers.Flatten()(pool2)\n",
    "\n",
    "    hidden1 = keras.layers.Dense(256, activation='relu')(flat)\n",
    "    drop1 = keras.layers.Dropout(rate=0.3)(hidden1)\n",
    "\n",
    "    out = keras.layers.Dense(10, activation='softmax')(drop1)\n",
    "\n",
    "    model = keras.Model(inputs=inp, outputs=out)\n",
    "    model.compile(optimizer='adam',\n",
    "                    loss='sparse_categorical_crossentropy',\n",
    "                    metrics=['accuracy'])\n",
    "    return model"
   ]
  },
  {
   "cell_type": "code",
   "execution_count": 6,
   "metadata": {},
   "outputs": [
    {
     "name": "stdout",
     "output_type": "stream",
     "text": [
      "Model: \"model\"\n",
      "_________________________________________________________________\n",
      "Layer (type)                 Output Shape              Param #   \n",
      "=================================================================\n",
      "input_1 (InputLayer)         [(None, 28, 28, 1)]       0         \n",
      "_________________________________________________________________\n",
      "conv2d (Conv2D)              (None, 28, 28, 16)        160       \n",
      "_________________________________________________________________\n",
      "max_pooling2d (MaxPooling2D) (None, 14, 14, 16)        0         \n",
      "_________________________________________________________________\n",
      "conv2d_1 (Conv2D)            (None, 14, 14, 32)        4640      \n",
      "_________________________________________________________________\n",
      "max_pooling2d_1 (MaxPooling2 (None, 7, 7, 32)          0         \n",
      "_________________________________________________________________\n",
      "flatten (Flatten)            (None, 1568)              0         \n",
      "_________________________________________________________________\n",
      "dense (Dense)                (None, 256)               401664    \n",
      "_________________________________________________________________\n",
      "dropout (Dropout)            (None, 256)               0         \n",
      "_________________________________________________________________\n",
      "dense_1 (Dense)              (None, 10)                2570      \n",
      "=================================================================\n",
      "Total params: 409,034\n",
      "Trainable params: 409,034\n",
      "Non-trainable params: 0\n",
      "_________________________________________________________________\n"
     ]
    }
   ],
   "source": [
    "model = create_cnn_architecture_model1(input_shape=INPUT_SHAPE)\n",
    "model.summary()"
   ]
  },
  {
   "cell_type": "code",
   "execution_count": 7,
   "metadata": {},
   "outputs": [
    {
     "name": "stdout",
     "output_type": "stream",
     "text": [
      "Train on 54000 samples, validate on 6000 samples\n",
      "Epoch 1/10\n",
      "54000/54000 [==============================] - 8s 149us/sample - loss: 0.4474 - acc: 0.8398 - val_loss: 0.3188 - val_acc: 0.8825\n",
      "Epoch 2/10\n",
      "54000/54000 [==============================] - 8s 146us/sample - loss: 0.3056 - acc: 0.8896 - val_loss: 0.2732 - val_acc: 0.9010\n",
      "Epoch 3/10\n",
      "54000/54000 [==============================] - 8s 145us/sample - loss: 0.2620 - acc: 0.9035 - val_loss: 0.2506 - val_acc: 0.9082\n",
      "Epoch 4/10\n",
      "54000/54000 [==============================] - 8s 152us/sample - loss: 0.2327 - acc: 0.9144 - val_loss: 0.2448 - val_acc: 0.9100\n",
      "Epoch 5/10\n",
      "54000/54000 [==============================] - 8s 146us/sample - loss: 0.2086 - acc: 0.9227 - val_loss: 0.2475 - val_acc: 0.9117\n",
      "Epoch 6/10\n",
      "54000/54000 [==============================] - 8s 150us/sample - loss: 0.1910 - acc: 0.9288 - val_loss: 0.2339 - val_acc: 0.9160\n",
      "Epoch 7/10\n",
      "54000/54000 [==============================] - 8s 156us/sample - loss: 0.1724 - acc: 0.9359 - val_loss: 0.2283 - val_acc: 0.9195\n",
      "Epoch 8/10\n",
      "54000/54000 [==============================] - 8s 153us/sample - loss: 0.1569 - acc: 0.9411 - val_loss: 0.2314 - val_acc: 0.9207\n",
      "Epoch 9/10\n",
      "54000/54000 [==============================] - 9s 161us/sample - loss: 0.1424 - acc: 0.9464 - val_loss: 0.2336 - val_acc: 0.9217\n",
      "Epoch 10/10\n",
      "54000/54000 [==============================] - 8s 151us/sample - loss: 0.1294 - acc: 0.9514 - val_loss: 0.2526 - val_acc: 0.9203\n"
     ]
    },
    {
     "data": {
      "text/plain": [
       "<tensorflow.python.keras.callbacks.History at 0x7f0abf7d6940>"
      ]
     },
     "execution_count": 7,
     "metadata": {},
     "output_type": "execute_result"
    }
   ],
   "source": [
    "EPOCHS = 10\n",
    "train_images_scaled = train_images_gr / 255.\n",
    "model.fit(train_images_scaled, train_labels, validation_split=0.1, epochs=EPOCHS)"
   ]
  },
  {
   "cell_type": "code",
   "execution_count": 8,
   "metadata": {},
   "outputs": [],
   "source": [
    "import os\n",
    "\n",
    "if not os.path.isdir('model_weights/'):\n",
    "    os.mkdir('model_weights/')\n",
    "    \n",
    "model.save_weights(filepath='model_weights/cnn_model1_wt.h5', overwrite=True)"
   ]
  },
  {
   "cell_type": "code",
   "execution_count": 9,
   "metadata": {},
   "outputs": [],
   "source": [
    "model = create_cnn_architecture_model1(input_shape=INPUT_SHAPE)\n",
    "model.load_weights('model_weights/cnn_model1_wt.h5')"
   ]
  },
  {
   "cell_type": "code",
   "execution_count": 10,
   "metadata": {},
   "outputs": [
    {
     "data": {
      "text/plain": [
       "array([[3.1646398e-12, 3.0869605e-11, 1.4910720e-11, 2.4556233e-09,\n",
       "        9.7153001e-11, 1.2067851e-09, 1.3409511e-09, 5.4234566e-05,\n",
       "        3.9694918e-12, 9.9994576e-01],\n",
       "       [1.3691524e-06, 1.5067863e-15, 9.9999833e-01, 3.2740893e-10,\n",
       "        1.7054756e-08, 2.2555780e-15, 2.7375083e-07, 8.2629578e-18,\n",
       "        2.6291770e-12, 3.5039443e-15],\n",
       "       [1.2165769e-15, 1.0000000e+00, 1.3814285e-19, 8.6606944e-14,\n",
       "        2.1134373e-19, 9.2899928e-25, 3.7914689e-20, 9.7018119e-29,\n",
       "        1.1231025e-18, 4.9237288e-31],\n",
       "       [6.4153686e-14, 1.0000000e+00, 3.9009209e-17, 1.2430050e-10,\n",
       "        1.0498481e-14, 8.7259224e-22, 3.6248301e-15, 6.1572752e-23,\n",
       "        5.2137402e-17, 6.9463770e-24],\n",
       "       [1.3574398e-01, 5.8895200e-09, 2.7232673e-03, 2.9281777e-05,\n",
       "        1.0616627e-04, 5.8233036e-09, 8.6139727e-01, 2.8884848e-09,\n",
       "        4.8423722e-08, 6.8137309e-09]], dtype=float32)"
      ]
     },
     "execution_count": 10,
     "metadata": {},
     "output_type": "execute_result"
    }
   ],
   "source": [
    "test_images_scaled = test_images_gr / 255.\n",
    "predictions = model.predict(test_images_scaled)\n",
    "predictions[:5]"
   ]
  },
  {
   "cell_type": "code",
   "execution_count": 11,
   "metadata": {},
   "outputs": [
    {
     "data": {
      "text/plain": [
       "array([9, 2, 1, 1, 6])"
      ]
     },
     "execution_count": 11,
     "metadata": {},
     "output_type": "execute_result"
    }
   ],
   "source": [
    "prediction_labels = np.argmax(predictions, axis=1)\n",
    "prediction_labels[:5]"
   ]
  },
  {
   "cell_type": "code",
   "execution_count": 12,
   "metadata": {},
   "outputs": [
    {
     "name": "stdout",
     "output_type": "stream",
     "text": [
      "             precision    recall  f1-score   support\n",
      "\n",
      "T-shirt/top       0.84      0.89      0.86      1000\n",
      "    Trouser       1.00      0.98      0.99      1000\n",
      "   Pullover       0.86      0.89      0.87      1000\n",
      "      Dress       0.89      0.95      0.92      1000\n",
      "       Coat       0.90      0.82      0.86      1000\n",
      "     Sandal       0.99      0.97      0.98      1000\n",
      "      Shirt       0.78      0.73      0.75      1000\n",
      "    Sneaker       0.94      0.98      0.96      1000\n",
      "        Bag       0.98      0.98      0.98      1000\n",
      " Ankle boot       0.98      0.96      0.97      1000\n",
      "\n",
      "avg / total       0.92      0.92      0.91     10000\n",
      "\n"
     ]
    },
    {
     "data": {
      "text/html": [
       "<div>\n",
       "<style scoped>\n",
       "    .dataframe tbody tr th:only-of-type {\n",
       "        vertical-align: middle;\n",
       "    }\n",
       "\n",
       "    .dataframe tbody tr th {\n",
       "        vertical-align: top;\n",
       "    }\n",
       "\n",
       "    .dataframe thead th {\n",
       "        text-align: right;\n",
       "    }\n",
       "</style>\n",
       "<table border=\"1\" class=\"dataframe\">\n",
       "  <thead>\n",
       "    <tr style=\"text-align: right;\">\n",
       "      <th></th>\n",
       "      <th>T-shirt/top</th>\n",
       "      <th>Trouser</th>\n",
       "      <th>Pullover</th>\n",
       "      <th>Dress</th>\n",
       "      <th>Coat</th>\n",
       "      <th>Sandal</th>\n",
       "      <th>Shirt</th>\n",
       "      <th>Sneaker</th>\n",
       "      <th>Bag</th>\n",
       "      <th>Ankle boot</th>\n",
       "    </tr>\n",
       "  </thead>\n",
       "  <tbody>\n",
       "    <tr>\n",
       "      <th>T-shirt/top</th>\n",
       "      <td>888</td>\n",
       "      <td>0</td>\n",
       "      <td>11</td>\n",
       "      <td>15</td>\n",
       "      <td>2</td>\n",
       "      <td>2</td>\n",
       "      <td>75</td>\n",
       "      <td>0</td>\n",
       "      <td>7</td>\n",
       "      <td>0</td>\n",
       "    </tr>\n",
       "    <tr>\n",
       "      <th>Trouser</th>\n",
       "      <td>0</td>\n",
       "      <td>981</td>\n",
       "      <td>0</td>\n",
       "      <td>16</td>\n",
       "      <td>0</td>\n",
       "      <td>0</td>\n",
       "      <td>2</td>\n",
       "      <td>0</td>\n",
       "      <td>1</td>\n",
       "      <td>0</td>\n",
       "    </tr>\n",
       "    <tr>\n",
       "      <th>Pullover</th>\n",
       "      <td>16</td>\n",
       "      <td>1</td>\n",
       "      <td>887</td>\n",
       "      <td>9</td>\n",
       "      <td>33</td>\n",
       "      <td>0</td>\n",
       "      <td>54</td>\n",
       "      <td>0</td>\n",
       "      <td>0</td>\n",
       "      <td>0</td>\n",
       "    </tr>\n",
       "    <tr>\n",
       "      <th>Dress</th>\n",
       "      <td>13</td>\n",
       "      <td>1</td>\n",
       "      <td>9</td>\n",
       "      <td>948</td>\n",
       "      <td>6</td>\n",
       "      <td>0</td>\n",
       "      <td>20</td>\n",
       "      <td>0</td>\n",
       "      <td>3</td>\n",
       "      <td>0</td>\n",
       "    </tr>\n",
       "    <tr>\n",
       "      <th>Coat</th>\n",
       "      <td>3</td>\n",
       "      <td>1</td>\n",
       "      <td>72</td>\n",
       "      <td>45</td>\n",
       "      <td>820</td>\n",
       "      <td>0</td>\n",
       "      <td>59</td>\n",
       "      <td>0</td>\n",
       "      <td>0</td>\n",
       "      <td>0</td>\n",
       "    </tr>\n",
       "    <tr>\n",
       "      <th>Sandal</th>\n",
       "      <td>0</td>\n",
       "      <td>0</td>\n",
       "      <td>0</td>\n",
       "      <td>0</td>\n",
       "      <td>0</td>\n",
       "      <td>974</td>\n",
       "      <td>0</td>\n",
       "      <td>16</td>\n",
       "      <td>0</td>\n",
       "      <td>10</td>\n",
       "    </tr>\n",
       "    <tr>\n",
       "      <th>Shirt</th>\n",
       "      <td>130</td>\n",
       "      <td>0</td>\n",
       "      <td>54</td>\n",
       "      <td>29</td>\n",
       "      <td>48</td>\n",
       "      <td>0</td>\n",
       "      <td>732</td>\n",
       "      <td>0</td>\n",
       "      <td>7</td>\n",
       "      <td>0</td>\n",
       "    </tr>\n",
       "    <tr>\n",
       "      <th>Sneaker</th>\n",
       "      <td>0</td>\n",
       "      <td>0</td>\n",
       "      <td>0</td>\n",
       "      <td>0</td>\n",
       "      <td>0</td>\n",
       "      <td>5</td>\n",
       "      <td>0</td>\n",
       "      <td>983</td>\n",
       "      <td>0</td>\n",
       "      <td>12</td>\n",
       "    </tr>\n",
       "    <tr>\n",
       "      <th>Bag</th>\n",
       "      <td>3</td>\n",
       "      <td>1</td>\n",
       "      <td>3</td>\n",
       "      <td>2</td>\n",
       "      <td>2</td>\n",
       "      <td>1</td>\n",
       "      <td>0</td>\n",
       "      <td>3</td>\n",
       "      <td>985</td>\n",
       "      <td>0</td>\n",
       "    </tr>\n",
       "    <tr>\n",
       "      <th>Ankle boot</th>\n",
       "      <td>1</td>\n",
       "      <td>0</td>\n",
       "      <td>0</td>\n",
       "      <td>0</td>\n",
       "      <td>0</td>\n",
       "      <td>4</td>\n",
       "      <td>0</td>\n",
       "      <td>39</td>\n",
       "      <td>0</td>\n",
       "      <td>956</td>\n",
       "    </tr>\n",
       "  </tbody>\n",
       "</table>\n",
       "</div>"
      ],
      "text/plain": [
       "             T-shirt/top  Trouser  Pullover  Dress  Coat  Sandal  Shirt  \\\n",
       "T-shirt/top          888        0        11     15     2       2     75   \n",
       "Trouser                0      981         0     16     0       0      2   \n",
       "Pullover              16        1       887      9    33       0     54   \n",
       "Dress                 13        1         9    948     6       0     20   \n",
       "Coat                   3        1        72     45   820       0     59   \n",
       "Sandal                 0        0         0      0     0     974      0   \n",
       "Shirt                130        0        54     29    48       0    732   \n",
       "Sneaker                0        0         0      0     0       5      0   \n",
       "Bag                    3        1         3      2     2       1      0   \n",
       "Ankle boot             1        0         0      0     0       4      0   \n",
       "\n",
       "             Sneaker  Bag  Ankle boot  \n",
       "T-shirt/top        0    7           0  \n",
       "Trouser            0    1           0  \n",
       "Pullover           0    0           0  \n",
       "Dress              0    3           0  \n",
       "Coat               0    0           0  \n",
       "Sandal            16    0          10  \n",
       "Shirt              0    7           0  \n",
       "Sneaker          983    0          12  \n",
       "Bag                3  985           0  \n",
       "Ankle boot        39    0         956  "
      ]
     },
     "execution_count": 12,
     "metadata": {},
     "output_type": "execute_result"
    }
   ],
   "source": [
    "from sklearn.metrics import confusion_matrix, classification_report\n",
    "import pandas as pd\n",
    "\n",
    "print(classification_report(test_labels, prediction_labels, target_names=class_names))\n",
    "pd.DataFrame(confusion_matrix(test_labels, prediction_labels), index=class_names, columns=class_names)"
   ]
  },
  {
   "cell_type": "code",
   "execution_count": 13,
   "metadata": {},
   "outputs": [],
   "source": [
    "model1 = create_cnn_architecture_model1(input_shape=INPUT_SHAPE)\n",
    "model1.load_weights('./model_weights/cnn_model1_wt.h5')\n",
    "export_path = './tf_saved_models/1'\n",
    "if os.path.isdir(export_path):\n",
    "    shutil.rmtree(export_path, ignore_errors=True)\n",
    "\n",
    "# Fetch the Keras session and save the model\n",
    "# The signature definition is defined by the input and output tensors\n",
    "# And stored with the default serving key\n",
    "tf.saved_model.simple_save(\n",
    "    keras.backend.get_session(),\n",
    "    export_path,\n",
    "    inputs={'input_image': model1.input},\n",
    "    outputs={t.name:t for t in model1.outputs})"
   ]
  },
  {
   "cell_type": "code",
   "execution_count": 14,
   "metadata": {},
   "outputs": [
    {
     "name": "stdout",
     "output_type": "stream",
     "text": [
      "\u001b[01;34m.\u001b[00m\r\n",
      "├── [1.9K]  app.py\r\n",
      "├── [ 257]  models.conf\r\n",
      "├── [218K]  Model_Training_Prototypes.ipynb\r\n",
      "├── [1.6M]  \u001b[01;34mmodel_weights\u001b[00m\r\n",
      "│   └── [1.6M]  cnn_model1_wt.h5\r\n",
      "├── [4.0K]  nohup.out\r\n",
      "├── [ 432]  README.md\r\n",
      "├── [1.1M]  server.log\r\n",
      "├── [ 44K]  \u001b[01;35msneaker.jpg\u001b[00m\r\n",
      "└── [8.0M]  \u001b[01;34mtf_saved_models\u001b[00m\r\n",
      "    └── [8.0M]  \u001b[01;34m1\u001b[00m\r\n",
      "        ├── [178K]  saved_model.pb\r\n",
      "        └── [7.8M]  \u001b[01;34mvariables\u001b[00m\r\n",
      "            ├── [7.8M]  variables.data-00000-of-00001\r\n",
      "            └── [1.6K]  variables.index\r\n",
      "\r\n",
      "  11M used in 4 directories, 11 files\r\n"
     ]
    }
   ],
   "source": [
    "! tree --du -h ."
   ]
  },
  {
   "cell_type": "markdown",
   "metadata": {},
   "source": [
    "---"
   ]
  },
  {
   "cell_type": "markdown",
   "metadata": {},
   "source": [
    "# launch  tensorflow-serving with docker"
   ]
  },
  {
   "cell_type": "markdown",
   "metadata": {},
   "source": [
    "### with CPU only\n",
    "```bash \n",
    "docker pull tensorflow/serving:latest\n",
    "```\n",
    "### with GPU support\n",
    "```bash\n",
    "docker pull tensorflow/serving:latest-gpu\n",
    "```"
   ]
  },
  {
   "cell_type": "code",
   "execution_count": 15,
   "metadata": {},
   "outputs": [
    {
     "name": "stdout",
     "output_type": "stream",
     "text": [
      "REPOSITORY           TAG                 IMAGE ID            CREATED             SIZE\r\n",
      "tensorflow/serving   latest-gpu          b247542eae94        2 months ago        2.42GB\r\n",
      "tensorflow/serving   latest              d4b221a3f345        2 months ago        220MB\r\n"
     ]
    }
   ],
   "source": [
    "!docker images"
   ]
  },
  {
   "cell_type": "markdown",
   "metadata": {},
   "source": [
    "### CPU only\n",
    "```bash\n",
    "docker run -p 8501:8501 \\\n",
    "  --mount type=bind,source=/home/jupyter/tensorflow_serving_docker/tf_saved_models,\\\n",
    "target=/home/jupyter/tensorflow_serving/tf_saved_models \\\n",
    "  --mount type=bind,source=/home/jupyter/tensorflow_serving_docker/models.conf,\\\n",
    "target=/home/jupyter/tensorflow_serving/models.conf \\\n",
    "  -t tensorflow/serving:latest --model_config_file=/home/jupyter/tensorflow_serving/models.conf\n",
    "```"
   ]
  },
  {
   "cell_type": "markdown",
   "metadata": {},
   "source": [
    "### with GPU support"
   ]
  },
  {
   "cell_type": "code",
   "execution_count": 18,
   "metadata": {},
   "outputs": [],
   "source": [
    "%%bash --bg \n",
    "docker run --gpus all -p 8501:8501 \\\n",
    "  --mount type=bind,source=/home/jupyter/tensorflow_serving_docker/tf_saved_models,\\\n",
    "target=/home/jupyter/tensorflow_serving/tf_saved_models \\\n",
    "  --mount type=bind,source=/home/jupyter/tensorflow_serving_docker/models.conf,\\\n",
    "target=/home/jupyter/tensorflow_serving/models.conf \\\n",
    "  -t tensorflow/serving:latest-gpu --model_config_file=/home/jupyter/tensorflow_serving/models.conf"
   ]
  },
  {
   "cell_type": "markdown",
   "metadata": {},
   "source": [
    "Note: if **nvidia-docker 2.0** is used, you should run image with the following command\n",
    "```bash \n",
    "%%bash --bg \n",
    "docker run --runtime nvidia -p 8501:8501 \\\n",
    "  --mount type=bind,source=/home/jupyter/tensorflow_serving_docker/tf_saved_models,\\\n",
    "target=/home/jupyter/tensorflow_serving/tf_saved_models \\\n",
    "  --mount type=bind,source=/home/jupyter/tensorflow_serving_docker/models.conf,\\\n",
    "target=/home/jupyter/tensorflow_serving/models.conf \\\n",
    "  -t tensorflow/serving:latest-gpu --model_config_file=/home/jupyter/tensorflow_serving/models.conf\n",
    "```"
   ]
  },
  {
   "cell_type": "code",
   "execution_count": 19,
   "metadata": {},
   "outputs": [
    {
     "name": "stdout",
     "output_type": "stream",
     "text": [
      "CONTAINER ID        IMAGE                           COMMAND                  CREATED             STATUS              PORTS                              NAMES\r\n",
      "bd2de869f1b5        tensorflow/serving:latest-gpu   \"/usr/bin/tf_serving…\"   15 seconds ago      Up 14 seconds       8500/tcp, 0.0.0.0:8501->8501/tcp   youthful_elgamal\r\n"
     ]
    }
   ],
   "source": [
    "!docker ps -all"
   ]
  },
  {
   "cell_type": "code",
   "execution_count": 20,
   "metadata": {
    "scrolled": true
   },
   "outputs": [
    {
     "name": "stdout",
     "output_type": "stream",
     "text": [
      "2019-09-22 06:45:27.738839: I external/org_tensorflow/tensorflow/core/common_runtime/gpu/gpu_device.cc:1181] Device interconnect StreamExecutor with strength 1 edge matrix:\r",
      "\r\n",
      "2019-09-22 06:45:27.738865: I external/org_tensorflow/tensorflow/core/common_runtime/gpu/gpu_device.cc:1187]      0 \r",
      "\r\n",
      "2019-09-22 06:45:27.738873: I external/org_tensorflow/tensorflow/core/common_runtime/gpu/gpu_device.cc:1200] 0:   N \r",
      "\r\n",
      "2019-09-22 06:45:27.739044: I external/org_tensorflow/tensorflow/stream_executor/cuda/cuda_gpu_executor.cc:1005] successful NUMA node read from SysFS had negative value (-1), but there must be at least one NUMA node, so returning NUMA node zero\r",
      "\r\n",
      "2019-09-22 06:45:27.739445: I external/org_tensorflow/tensorflow/stream_executor/cuda/cuda_gpu_executor.cc:1005] successful NUMA node read from SysFS had negative value (-1), but there must be at least one NUMA node, so returning NUMA node zero\r",
      "\r\n",
      "2019-09-22 06:45:27.739836: I external/org_tensorflow/tensorflow/stream_executor/cuda/cuda_gpu_executor.cc:1005] successful NUMA node read from SysFS had negative value (-1), but there must be at least one NUMA node, so returning NUMA node zero\r",
      "\r\n",
      "2019-09-22 06:45:27.740232: I external/org_tensorflow/tensorflow/core/common_runtime/gpu/gpu_device.cc:1326] Created TensorFlow device (/job:localhost/replica:0/task:0/device:GPU:0 with 9409 MB memory) -> physical GPU (device: 0, name: GeForce GTX 1080 Ti, pci bus id: 0000:01:00.0, compute capability: 6.1)\r",
      "\r\n",
      "2019-09-22 06:45:27.757425: I external/org_tensorflow/tensorflow/cc/saved_model/loader.cc:202] Restoring SavedModel bundle.\r",
      "\r\n",
      "2019-09-22 06:45:27.857897: I external/org_tensorflow/tensorflow/cc/saved_model/loader.cc:311] SavedModel load for tags { serve }; Status: success. Took 449076 microseconds.\r",
      "\r\n",
      "2019-09-22 06:45:27.857941: I tensorflow_serving/servables/tensorflow/saved_model_warmup.cc:103] No warmup data file found at /home/jupyter/tensorflow_serving/tf_saved_models/1/assets.extra/tf_serving_warmup_requests\r",
      "\r\n",
      "2019-09-22 06:45:27.858058: I tensorflow_serving/core/loader_harness.cc:86] Successfully loaded servable version {name: fashion_model_serving version: 1}\r",
      "\r\n",
      "2019-09-22 06:45:27.859454: I tensorflow_serving/model_servers/server.cc:324] Running gRPC ModelServer at 0.0.0.0:8500 ...\r",
      "\r\n",
      "[warn] getaddrinfo: address family for nodename not supported\r",
      "\r\n",
      "[evhttp_server.cc : 239] RAW: Entering the event loop ...\r",
      "\r\n",
      "2019-09-22 06:45:27.860439: I tensorflow_serving/model_servers/server.cc:344] Exporting HTTP/REST API at:localhost:8501 ...\r",
      "\r\n"
     ]
    }
   ],
   "source": [
    "!docker logs bd2de869f1b5 | tail -n 15"
   ]
  },
  {
   "cell_type": "code",
   "execution_count": 21,
   "metadata": {},
   "outputs": [
    {
     "name": "stdout",
     "output_type": "stream",
     "text": [
      "model_config_list: {\r\n",
      "  config: {\r\n",
      "    name:  \"fashion_model_serving\",\r\n",
      "    base_path:  \"/home/jupyter/tensorflow_serving/tf_saved_models\",\r\n",
      "    model_platform: \"tensorflow\",\r\n",
      "    model_version_policy {\r\n",
      "      specific {\r\n",
      "        versions: 1\r\n",
      "      }\r\n",
      "    }\r\n",
      "  }\r\n",
      "}\r\n",
      "\r\n",
      "\r\n"
     ]
    }
   ],
   "source": [
    "!cat models.conf"
   ]
  },
  {
   "cell_type": "code",
   "execution_count": 22,
   "metadata": {},
   "outputs": [
    {
     "data": {
      "image/png": "[encoded data removed]",
      "text/plain": [
       "<Figure size 1008x432 with 10 Axes>"
      ]
     },
     "metadata": {
      "needs_background": "light"
     },
     "output_type": "display_data"
    }
   ],
   "source": [
    "sample_test_data = test_images[580:590]\n",
    "sample_test_labels = test_labels[580:590]\n",
    "sample_test_data_processed = np.expand_dims(sample_test_data / 255., axis=3)\n",
    "data = json.dumps({\"signature_name\": \"serving_default\", \n",
    "                   \"instances\": sample_test_data_processed.tolist()})\n",
    "\n",
    "HEADERS = {'content-type': 'application/json'}\n",
    "MODEL1_API_URL = 'http://localhost:8501/v1/models/fashion_model_serving/versions/1:predict'\n",
    "\n",
    "json_response = requests.post(MODEL1_API_URL, data=data, headers=HEADERS)\n",
    "predictions = json.loads(json_response.text)['predictions']\n",
    "predictions = np.argmax(np.array(predictions), axis=1)\n",
    "prediction_labels = [class_names[p] for p in predictions]\n",
    "\n",
    "fig, ax = plt.subplots(2, 5, figsize=(14, 6))\n",
    "for idx, img in enumerate(sample_test_data):\n",
    "    rowidx = idx // 5\n",
    "    colidx = idx % 5\n",
    "    ax[rowidx, colidx].imshow(img)\n",
    "    ax[rowidx, colidx].set_title('Actual: {}\\nPredicted: {}'.format(class_names[sample_test_labels[idx]], \n",
    "                                                                    prediction_labels[idx]), fontsize=10)"
   ]
  },
  {
   "cell_type": "markdown",
   "metadata": {},
   "source": [
    "# Building an Apparel Classifier API with Flask & TensorFlow Serving"
   ]
  },
  {
   "cell_type": "code",
   "execution_count": 23,
   "metadata": {},
   "outputs": [],
   "source": [
    "%%bash --bg \n",
    "nohup python app.py >server.log 2>&1"
   ]
  },
  {
   "cell_type": "code",
   "execution_count": 24,
   "metadata": {},
   "outputs": [
    {
     "data": {
      "text/plain": [
       "(200, 'API Live!')"
      ]
     },
     "execution_count": 24,
     "metadata": {},
     "output_type": "execute_result"
    }
   ],
   "source": [
    "r = requests.get('http://0.0.0.0:5000/apparel_classifier/api/v1/liveness')\n",
    "r.status_code, r.text"
   ]
  },
  {
   "cell_type": "code",
   "execution_count": 25,
   "metadata": {},
   "outputs": [
    {
     "data": {
      "text/plain": [
       "<matplotlib.image.AxesImage at 0x7f0b44ad54e0>"
      ]
     },
     "execution_count": 25,
     "metadata": {},
     "output_type": "execute_result"
    },
    {
     "data": {
      "image/png": "[encoded data removed]",
      "text/plain": [
       "<Figure size 432x288 with 1 Axes>"
      ]
     },
     "metadata": {
      "needs_background": "light"
     },
     "output_type": "display_data"
    }
   ],
   "source": [
    "plt.imshow(cv2.cvtColor(cv2.imread('sneaker.jpg'), cv2.COLOR_BGR2RGB))"
   ]
  },
  {
   "cell_type": "code",
   "execution_count": 26,
   "metadata": {},
   "outputs": [
    {
     "data": {
      "text/plain": [
       "{'apparel_type': 'Sneaker'}"
      ]
     },
     "execution_count": 26,
     "metadata": {},
     "output_type": "execute_result"
    }
   ],
   "source": [
    "import base64\n",
    "import requests \n",
    "\n",
    "with open('sneaker.jpg', \"rb\") as imageFile:\n",
    "    img_b64enc = base64.b64encode(imageFile.read())\n",
    "    data = {'b64_img': img_b64enc}\n",
    "\n",
    "API_URL = 'http://0.0.0.0:5000/apparel_classifier/api/v1/model1_predict'\n",
    "# sending post request and saving response as response object\n",
    "r = requests.post(url=API_URL, data=data)\n",
    "r.json()"
   ]
  },
  {
   "cell_type": "code",
   "execution_count": 27,
   "metadata": {},
   "outputs": [
    {
     "name": "stderr",
     "output_type": "stream",
     "text": [
      "100%|██████████| 100/100 [00:01<00:00, 78.70it/s]"
     ]
    },
    {
     "name": "stdout",
     "output_type": "stream",
     "text": [
      "CPU times: user 395 ms, sys: 8.87 ms, total: 404 ms\n",
      "Wall time: 1.27 s\n"
     ]
    },
    {
     "name": "stderr",
     "output_type": "stream",
     "text": [
      "\n"
     ]
    },
    {
     "data": {
      "text/plain": [
       "100"
      ]
     },
     "execution_count": 27,
     "metadata": {},
     "output_type": "execute_result"
    }
   ],
   "source": [
    "%%time\n",
    "\n",
    "responses = []\n",
    "for i in tqdm(range(100)):\n",
    "    API_URL = 'http://0.0.0.0:5000/apparel_classifier/api/v1/model1_predict'\n",
    "    # sending post request and saving response as response object\n",
    "    r = requests.post(url=API_URL, data=data)\n",
    "    responses.append(r.json())\n",
    "len(responses)"
   ]
  },
  {
   "cell_type": "code",
   "execution_count": null,
   "metadata": {},
   "outputs": [],
   "source": []
  }
 ],
 "metadata": {
  "kernelspec": {
   "display_name": "Python 3",
   "language": "python",
   "name": "python3"
  },
  "language_info": {
   "codemirror_mode": {
    "name": "ipython",
    "version": 3
   },
   "file_extension": ".py",
   "mimetype": "text/x-python",
   "name": "python",
   "nbconvert_exporter": "python",
   "pygments_lexer": "ipython3",
   "version": "3.5.6"
  }
 },
 "nbformat": 4,
 "nbformat_minor": 4
}
